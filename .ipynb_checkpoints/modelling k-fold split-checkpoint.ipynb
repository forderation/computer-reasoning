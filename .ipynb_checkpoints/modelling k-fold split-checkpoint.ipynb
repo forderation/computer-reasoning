{
 "cells": [
  {
   "cell_type": "code",
   "execution_count": null,
   "metadata": {},
   "outputs": [],
   "source": [
    "import pandas as pd\n",
    "import numpy as np\n",
    "from sklearn.model_selection import KFold\n",
    "from sklearn.feature_extraction.text import TfidfVectorizer\n",
    "from sklearn.naive_bayes import MultinomialNB\n",
    "from sklearn import preprocessing\n",
    "from sklearn.naive_bayes import BernoulliNB\n",
    "from sklearn.model_selection import train_test_split\n",
    "from sklearn.metrics import accuracy_score\n",
    "from sklearn.utils import shuffle"
   ]
  },
  {
   "cell_type": "code",
   "execution_count": null,
   "metadata": {},
   "outputs": [],
   "source": [
    "games_df = pd.read_csv('dataset_binary_games.csv')\n",
    "games_df = shuffle(games_df, random_state = 42).reset_index(drop=True).drop(['Unnamed: 0'], axis=1)\n",
    "games_df"
   ]
  },
  {
   "cell_type": "code",
   "execution_count": null,
   "metadata": {},
   "outputs": [],
   "source": [
    "x_games_df = games_df.iloc[:, [2,3,5,6]]\n",
    "y_games_df = games_df.iloc[:, [7]]"
   ]
  },
  {
   "cell_type": "code",
   "execution_count": null,
   "metadata": {},
   "outputs": [],
   "source": [
    "def tf_idf(text, max_feat=None):\n",
    "    tfidf_vect = TfidfVectorizer(max_features=max_feat)\n",
    "    tfidf_vect.fit(text)\n",
    "    return tfidf_vect"
   ]
  },
  {
   "cell_type": "code",
   "execution_count": null,
   "metadata": {},
   "outputs": [],
   "source": [
    "base_vectorizer = tf_idf(games_df.app_desc, max_feat=24)"
   ]
  },
  {
   "cell_type": "code",
   "execution_count": null,
   "metadata": {},
   "outputs": [],
   "source": [
    "def join_feature(feature, tfidf):\n",
    "    features = []\n",
    "    transform = np.array(feature.iloc[:, [0,1,2]])\n",
    "    for i,_ in enumerate(transform):\n",
    "        concat = np.concatenate(\n",
    "            [transform[i].reshape(-1), \n",
    "             tfidf[i].reshape(-1)]\n",
    "        )\n",
    "        features.append(concat)\n",
    "    return np.array(features)"
   ]
  },
  {
   "cell_type": "code",
   "execution_count": null,
   "metadata": {},
   "outputs": [],
   "source": [
    "def build_ml(train, test, train_y, test_y, vectorizer):\n",
    "    train_x_tfidf = vectorizer.fit_transform(train.app_desc).toarray()\n",
    "    test_x_tfidf = vectorizer.fit_transform(test.app_desc).toarray()\n",
    "    train_x = join_feature(train, train_x_tfidf)\n",
    "    test_x = join_feature(test, test_x_tfidf)\n",
    "    mnb = MultinomialNB()\n",
    "    mnb.fit(train_x, train_y.ravel())\n",
    "    predictions_mnb = mnb.predict(test_x)\n",
    "    score_mlt = accuracy_score(predictions_mnb, test_y)*100\n",
    "    bernoulli = BernoulliNB()\n",
    "    bernoulli.fit(train_x, train_y.ravel())\n",
    "    predictions_bernoulli = bernoulli.predict(test_x)\n",
    "    score_bernoulli = accuracy_score(predictions_bernoulli, test_y)*100\n",
    "    print(\"acc score -> bernoulli : {} multinomial : {}\".format(score_bernoulli, score_mlt))\n",
    "    return score_mlt, score_bernoulli"
   ]
  },
  {
   "cell_type": "code",
   "execution_count": null,
   "metadata": {},
   "outputs": [],
   "source": [
    "def get_result(fold_list, x_df, y_df):\n",
    "    test_result = {'multinomial':{},'bernoulli':{}}\n",
    "    for k_fold in fold_list:\n",
    "        kf = KFold(n_splits=k_fold)\n",
    "        print(\"test on fold: \", k_fold)\n",
    "        all_score_mlt = []\n",
    "        all_score_bernoulli = []\n",
    "        for train_index, test_index in kf.split(x_df):\n",
    "            score_mlt, score_bernoulli = build_ml(\n",
    "                train = x_df.iloc[train_index,:], \n",
    "                test = x_df.iloc[test_index,:], \n",
    "                train_y = np.array(y_df.iloc[train_index,:]),\n",
    "                test_y = np.array(y_df.iloc[test_index,:]),\n",
    "                vectorizer = base_vectorizer\n",
    "            )\n",
    "            all_score_mlt.append(score_mlt)\n",
    "            all_score_bernoulli.append(score_bernoulli)\n",
    "        test_result['multinomial'][str(k_fold)] = np.average(all_score_mlt)\n",
    "        test_result['bernoulli'][str(k_fold)] = np.average(all_score_bernoulli)\n",
    "    return test_result"
   ]
  },
  {
   "cell_type": "code",
   "execution_count": null,
   "metadata": {},
   "outputs": [],
   "source": [
    "games_result = get_result(\n",
    "    fold_list = [2,6,10],\n",
    "    x_df = x_games_df,\n",
    "    y_df = y_games_df\n",
    ")\n",
    "games_result"
   ]
  },
  {
   "cell_type": "code",
   "execution_count": null,
   "metadata": {},
   "outputs": [],
   "source": [
    "all_df = pd.read_csv('dataset_all_category.csv')\n",
    "all_df = shuffle(all_df, random_state = 42).reset_index(drop=True).drop(['Unnamed: 0'], axis=1)\n",
    "all_df"
   ]
  },
  {
   "cell_type": "code",
   "execution_count": null,
   "metadata": {},
   "outputs": [],
   "source": [
    "genre_list = list(set(all_df['prime_genre'].to_list()))\n",
    "genre_list"
   ]
  },
  {
   "cell_type": "code",
   "execution_count": null,
   "metadata": {},
   "outputs": [],
   "source": [
    "le = preprocessing.LabelEncoder()\n",
    "le.fit(genre_list)"
   ]
  },
  {
   "cell_type": "code",
   "execution_count": null,
   "metadata": {},
   "outputs": [],
   "source": [
    "def encode_class(str_class):\n",
    "    return le.transform([str_class])[0]"
   ]
  },
  {
   "cell_type": "code",
   "execution_count": null,
   "metadata": {},
   "outputs": [],
   "source": [
    "all_df['encode_class'] = all_df['prime_genre'].apply(encode_class)\n",
    "all_df"
   ]
  },
  {
   "cell_type": "code",
   "execution_count": null,
   "metadata": {},
   "outputs": [],
   "source": [
    "x_all_df = all_df.iloc[:, [2,3,5,6]]\n",
    "y_all_df = all_df.iloc[:, [7]]"
   ]
  },
  {
   "cell_type": "code",
   "execution_count": null,
   "metadata": {},
   "outputs": [],
   "source": [
    "all_result = get_result(\n",
    "    fold_list = [2,6,10],\n",
    "    x_df = x_all_df,\n",
    "    y_df = y_all_df\n",
    ")\n",
    "all_result"
   ]
  }
 ],
 "metadata": {
  "kernelspec": {
   "display_name": "Python 3",
   "language": "python",
   "name": "python3"
  },
  "language_info": {
   "codemirror_mode": {
    "name": "ipython",
    "version": 3
   },
   "file_extension": ".py",
   "mimetype": "text/x-python",
   "name": "python",
   "nbconvert_exporter": "python",
   "pygments_lexer": "ipython3",
   "version": "3.7.6"
  }
 },
 "nbformat": 4,
 "nbformat_minor": 4
}
