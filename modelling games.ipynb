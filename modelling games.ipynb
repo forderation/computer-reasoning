{
 "cells": [
  {
   "cell_type": "code",
   "execution_count": 25,
   "metadata": {},
   "outputs": [],
   "source": [
    "import pandas as pd\n",
    "import numpy as np\n",
    "from sklearn.model_selection import KFold\n",
    "from sklearn.feature_extraction.text import TfidfVectorizer\n",
    "from sklearn.naive_bayes import MultinomialNB\n",
    "from sklearn.model_selection import train_test_split\n",
    "from sklearn.metrics import accuracy_score\n",
    "from sklearn.utils import shuffle"
   ]
  },
  {
   "cell_type": "code",
   "execution_count": 31,
   "metadata": {},
   "outputs": [
    {
     "data": {
      "text/html": [
       "<div>\n",
       "<style scoped>\n",
       "    .dataframe tbody tr th:only-of-type {\n",
       "        vertical-align: middle;\n",
       "    }\n",
       "\n",
       "    .dataframe tbody tr th {\n",
       "        vertical-align: top;\n",
       "    }\n",
       "\n",
       "    .dataframe thead th {\n",
       "        text-align: right;\n",
       "    }\n",
       "</style>\n",
       "<table border=\"1\" class=\"dataframe\">\n",
       "  <thead>\n",
       "    <tr style=\"text-align: right;\">\n",
       "      <th></th>\n",
       "      <th>id</th>\n",
       "      <th>track_name</th>\n",
       "      <th>price</th>\n",
       "      <th>cont_rating</th>\n",
       "      <th>prime_genre</th>\n",
       "      <th>vpp_lic</th>\n",
       "      <th>app_desc</th>\n",
       "      <th>is_games</th>\n",
       "    </tr>\n",
       "  </thead>\n",
       "  <tbody>\n",
       "    <tr>\n",
       "      <th>0</th>\n",
       "      <td>1077056423</td>\n",
       "      <td>Danse Macabre: Thin Ice - A Mystery Hidden Obj...</td>\n",
       "      <td>6.99</td>\n",
       "      <td>9</td>\n",
       "      <td>games</td>\n",
       "      <td>1</td>\n",
       "      <td>pay play forever fisher star popular figure sk...</td>\n",
       "      <td>1</td>\n",
       "    </tr>\n",
       "    <tr>\n",
       "      <th>1</th>\n",
       "      <td>1028362533</td>\n",
       "      <td>Slots - Huuuge Casino: Slot Machines</td>\n",
       "      <td>0.00</td>\n",
       "      <td>12</td>\n",
       "      <td>games</td>\n",
       "      <td>1</td>\n",
       "      <td>join world biggest casino community casino pla...</td>\n",
       "      <td>1</td>\n",
       "    </tr>\n",
       "    <tr>\n",
       "      <th>2</th>\n",
       "      <td>412395632</td>\n",
       "      <td>乐视视频HD-白鹿原,欢乐颂,奔跑吧全网热播</td>\n",
       "      <td>0.00</td>\n",
       "      <td>17</td>\n",
       "      <td>entertainment</td>\n",
       "      <td>1</td>\n",
       "      <td>f f live f</td>\n",
       "      <td>0</td>\n",
       "    </tr>\n",
       "    <tr>\n",
       "      <th>3</th>\n",
       "      <td>480375355</td>\n",
       "      <td>The Bard's Tale</td>\n",
       "      <td>2.99</td>\n",
       "      <td>12</td>\n",
       "      <td>games</td>\n",
       "      <td>1</td>\n",
       "      <td>sale price low even crazy crazy get come canad...</td>\n",
       "      <td>1</td>\n",
       "    </tr>\n",
       "    <tr>\n",
       "      <th>4</th>\n",
       "      <td>1054501757</td>\n",
       "      <td>Lifeline: Silent Night</td>\n",
       "      <td>1.99</td>\n",
       "      <td>9</td>\n",
       "      <td>games</td>\n",
       "      <td>1</td>\n",
       "      <td>hearts countless original lifeline took store ...</td>\n",
       "      <td>1</td>\n",
       "    </tr>\n",
       "    <tr>\n",
       "      <th>...</th>\n",
       "      <td>...</td>\n",
       "      <td>...</td>\n",
       "      <td>...</td>\n",
       "      <td>...</td>\n",
       "      <td>...</td>\n",
       "      <td>...</td>\n",
       "      <td>...</td>\n",
       "      <td>...</td>\n",
       "    </tr>\n",
       "    <tr>\n",
       "      <th>6235</th>\n",
       "      <td>1060082140</td>\n",
       "      <td>Flick Golf Extreme</td>\n",
       "      <td>0.00</td>\n",
       "      <td>4</td>\n",
       "      <td>games</td>\n",
       "      <td>1</td>\n",
       "      <td>flick golf take extreme ready master world tee...</td>\n",
       "      <td>1</td>\n",
       "    </tr>\n",
       "    <tr>\n",
       "      <th>6236</th>\n",
       "      <td>550902799</td>\n",
       "      <td>Camera+ for iPad</td>\n",
       "      <td>4.99</td>\n",
       "      <td>4</td>\n",
       "      <td>photo &amp; video</td>\n",
       "      <td>1</td>\n",
       "      <td>clarity filter photography secret sauce crispn...</td>\n",
       "      <td>0</td>\n",
       "    </tr>\n",
       "    <tr>\n",
       "      <th>6237</th>\n",
       "      <td>996246479</td>\n",
       "      <td>SHOWTIME</td>\n",
       "      <td>0.00</td>\n",
       "      <td>17</td>\n",
       "      <td>entertainment</td>\n",
       "      <td>1</td>\n",
       "      <td>limited time offer try days free start streami...</td>\n",
       "      <td>0</td>\n",
       "    </tr>\n",
       "    <tr>\n",
       "      <th>6238</th>\n",
       "      <td>1121740066</td>\n",
       "      <td>PetMOJI – Character Creator &amp; Emoji Keyboard</td>\n",
       "      <td>0.00</td>\n",
       "      <td>4</td>\n",
       "      <td>entertainment</td>\n",
       "      <td>1</td>\n",
       "      <td>universal illumination entertainment behind se...</td>\n",
       "      <td>0</td>\n",
       "    </tr>\n",
       "    <tr>\n",
       "      <th>6239</th>\n",
       "      <td>364733950</td>\n",
       "      <td>National Geographic World Atlas</td>\n",
       "      <td>1.99</td>\n",
       "      <td>4</td>\n",
       "      <td>reference</td>\n",
       "      <td>1</td>\n",
       "      <td>welcome world atlas national geographic best w...</td>\n",
       "      <td>0</td>\n",
       "    </tr>\n",
       "  </tbody>\n",
       "</table>\n",
       "<p>6240 rows × 8 columns</p>\n",
       "</div>"
      ],
      "text/plain": [
       "              id                                         track_name  price  \\\n",
       "0     1077056423  Danse Macabre: Thin Ice - A Mystery Hidden Obj...   6.99   \n",
       "1     1028362533               Slots - Huuuge Casino: Slot Machines   0.00   \n",
       "2      412395632                             乐视视频HD-白鹿原,欢乐颂,奔跑吧全网热播   0.00   \n",
       "3      480375355                                    The Bard's Tale   2.99   \n",
       "4     1054501757                             Lifeline: Silent Night   1.99   \n",
       "...          ...                                                ...    ...   \n",
       "6235  1060082140                                 Flick Golf Extreme   0.00   \n",
       "6236   550902799                                   Camera+ for iPad   4.99   \n",
       "6237   996246479                                           SHOWTIME   0.00   \n",
       "6238  1121740066       PetMOJI – Character Creator & Emoji Keyboard   0.00   \n",
       "6239   364733950                    National Geographic World Atlas   1.99   \n",
       "\n",
       "      cont_rating    prime_genre  vpp_lic  \\\n",
       "0               9          games        1   \n",
       "1              12          games        1   \n",
       "2              17  entertainment        1   \n",
       "3              12          games        1   \n",
       "4               9          games        1   \n",
       "...           ...            ...      ...   \n",
       "6235            4          games        1   \n",
       "6236            4  photo & video        1   \n",
       "6237           17  entertainment        1   \n",
       "6238            4  entertainment        1   \n",
       "6239            4      reference        1   \n",
       "\n",
       "                                               app_desc  is_games  \n",
       "0     pay play forever fisher star popular figure sk...         1  \n",
       "1     join world biggest casino community casino pla...         1  \n",
       "2                                            f f live f         0  \n",
       "3     sale price low even crazy crazy get come canad...         1  \n",
       "4     hearts countless original lifeline took store ...         1  \n",
       "...                                                 ...       ...  \n",
       "6235  flick golf take extreme ready master world tee...         1  \n",
       "6236  clarity filter photography secret sauce crispn...         0  \n",
       "6237  limited time offer try days free start streami...         0  \n",
       "6238  universal illumination entertainment behind se...         0  \n",
       "6239  welcome world atlas national geographic best w...         0  \n",
       "\n",
       "[6240 rows x 8 columns]"
      ]
     },
     "execution_count": 31,
     "metadata": {},
     "output_type": "execute_result"
    }
   ],
   "source": [
    "df = pd.read_csv('dataset_binary_games.csv')\n",
    "df = shuffle(df).reset_index(drop=True).drop(['Unnamed: 0'], axis=1)\n",
    "df"
   ]
  },
  {
   "cell_type": "code",
   "execution_count": 65,
   "metadata": {},
   "outputs": [],
   "source": [
    "x_df = df.iloc[:, [2,3,5,6]]\n",
    "y_df = df.iloc[:, [7]]"
   ]
  },
  {
   "cell_type": "code",
   "execution_count": 68,
   "metadata": {},
   "outputs": [],
   "source": [
    "def tf_idf(text, max_feat=None):\n",
    "    tfidf_vect = TfidfVectorizer(max_features=max_feat)\n",
    "    tfidf_vect.fit(text)\n",
    "    return tfidf_vect"
   ]
  },
  {
   "cell_type": "code",
   "execution_count": 69,
   "metadata": {},
   "outputs": [],
   "source": [
    "base_vectorizer = tf_idf(df.app_desc, max_feat=600)"
   ]
  },
  {
   "cell_type": "code",
   "execution_count": 163,
   "metadata": {},
   "outputs": [],
   "source": [
    "kf = KFold(n_splits=10)"
   ]
  },
  {
   "cell_type": "code",
   "execution_count": 164,
   "metadata": {},
   "outputs": [],
   "source": [
    "def join_feature(feature, tfidf):\n",
    "    features = []\n",
    "    transform = np.array(feature.iloc[:, [0,1,2]])\n",
    "    for i,_ in enumerate(transform):\n",
    "        concat = np.concatenate(\n",
    "            [transform[i].reshape(-1), \n",
    "             tfidf[i].reshape(-1)]\n",
    "        )\n",
    "        features.append(concat)\n",
    "    return np.array(features)"
   ]
  },
  {
   "cell_type": "code",
   "execution_count": 173,
   "metadata": {},
   "outputs": [],
   "source": [
    "def build_mn_naive_bayes(train, test, train_y, test_y, vectorizer):\n",
    "    train_x_tfidf = vectorizer.fit_transform(train.app_desc).toarray()\n",
    "    test_x_tfidf = vectorizer.fit_transform(test.app_desc).toarray()\n",
    "    train_x = join_feature(train, train_x_tfidf)\n",
    "    test_x = join_feature(test, test_x_tfidf)\n",
    "    mnb = MultinomialNB()\n",
    "    mnb.fit(train_x, train_y.ravel())\n",
    "    predictions_mnb = mnb.predict(test_x)\n",
    "    score = accuracy_score(predictions_mnb, test_y)*100\n",
    "    print(\"mnb acc score -> \",score)\n",
    "    return score"
   ]
  },
  {
   "cell_type": "code",
   "execution_count": 177,
   "metadata": {},
   "outputs": [
    {
     "name": "stdout",
     "output_type": "stream",
     "text": [
      "mnb acc score ->  60.73717948717948\n",
      "mnb acc score ->  58.81410256410257\n",
      "mnb acc score ->  59.455128205128204\n",
      "mnb acc score ->  60.09615384615385\n",
      "mnb acc score ->  60.256410256410255\n",
      "mnb acc score ->  62.980769230769226\n",
      "mnb acc score ->  57.692307692307686\n",
      "mnb acc score ->  60.89743589743589\n",
      "mnb acc score ->  55.608974358974365\n",
      "mnb acc score ->  67.78846153846155\n"
     ]
    }
   ],
   "source": [
    "score_mn = []\n",
    "for train_index, test_index in kf.split(df):\n",
    "    score_mn_naive_bayes = build_mn_naive_bayes(\n",
    "        train = x_df.iloc[train_index,:], \n",
    "        test = x_df.iloc[test_index,:], \n",
    "        train_y = np.array(y_df.iloc[train_index,:]),\n",
    "        test_y = np.array(y_df.iloc[test_index,:]),\n",
    "        vectorizer = base_vectorizer\n",
    "    )\n",
    "    score_mn.append(float(score_mn_naive_bayes))"
   ]
  },
  {
   "cell_type": "code",
   "execution_count": 178,
   "metadata": {},
   "outputs": [
    {
     "data": {
      "text/plain": [
       "60.4326923076923"
      ]
     },
     "execution_count": 178,
     "metadata": {},
     "output_type": "execute_result"
    }
   ],
   "source": [
    "avg_mn_naive_bayes = np.average(score_mn)\n",
    "avg_mn_naive_bayes"
   ]
  },
  {
   "cell_type": "code",
   "execution_count": null,
   "metadata": {},
   "outputs": [],
   "source": []
  }
 ],
 "metadata": {
  "kernelspec": {
   "display_name": "Python 3",
   "language": "python",
   "name": "python3"
  },
  "language_info": {
   "codemirror_mode": {
    "name": "ipython",
    "version": 3
   },
   "file_extension": ".py",
   "mimetype": "text/x-python",
   "name": "python",
   "nbconvert_exporter": "python",
   "pygments_lexer": "ipython3",
   "version": "3.7.6"
  }
 },
 "nbformat": 4,
 "nbformat_minor": 4
}
