{
 "cells": [
  {
   "cell_type": "code",
   "execution_count": 234,
   "metadata": {},
   "outputs": [],
   "source": [
    "import pandas as pd\n",
    "import numpy as np\n",
    "from sklearn.model_selection import KFold\n",
    "from sklearn.feature_extraction.text import TfidfVectorizer\n",
    "from sklearn.naive_bayes import MultinomialNB\n",
    "from sklearn.naive_bayes import BernoulliNB\n",
    "from sklearn.model_selection import train_test_split\n",
    "from sklearn.metrics import accuracy_score\n",
    "from sklearn.utils import shuffle"
   ]
  },
  {
   "cell_type": "code",
   "execution_count": 235,
   "metadata": {},
   "outputs": [
    {
     "data": {
      "text/html": [
       "<div>\n",
       "<style scoped>\n",
       "    .dataframe tbody tr th:only-of-type {\n",
       "        vertical-align: middle;\n",
       "    }\n",
       "\n",
       "    .dataframe tbody tr th {\n",
       "        vertical-align: top;\n",
       "    }\n",
       "\n",
       "    .dataframe thead th {\n",
       "        text-align: right;\n",
       "    }\n",
       "</style>\n",
       "<table border=\"1\" class=\"dataframe\">\n",
       "  <thead>\n",
       "    <tr style=\"text-align: right;\">\n",
       "      <th></th>\n",
       "      <th>id</th>\n",
       "      <th>track_name</th>\n",
       "      <th>price</th>\n",
       "      <th>cont_rating</th>\n",
       "      <th>prime_genre</th>\n",
       "      <th>vpp_lic</th>\n",
       "      <th>app_desc</th>\n",
       "      <th>is_games</th>\n",
       "    </tr>\n",
       "  </thead>\n",
       "  <tbody>\n",
       "    <tr>\n",
       "      <th>0</th>\n",
       "      <td>1103702902</td>\n",
       "      <td>Red 7 - play Digital Red7 Card Game with Friends</td>\n",
       "      <td>2.99</td>\n",
       "      <td>4</td>\n",
       "      <td>games</td>\n",
       "      <td>1</td>\n",
       "      <td>red official digital mobile version cult card ...</td>\n",
       "      <td>1</td>\n",
       "    </tr>\n",
       "    <tr>\n",
       "      <th>1</th>\n",
       "      <td>337056601</td>\n",
       "      <td>n-tv Nachrichten</td>\n",
       "      <td>0.00</td>\n",
       "      <td>12</td>\n",
       "      <td>news</td>\n",
       "      <td>1</td>\n",
       "      <td>die die das den touch das apple die apple watc...</td>\n",
       "      <td>0</td>\n",
       "    </tr>\n",
       "    <tr>\n",
       "      <th>2</th>\n",
       "      <td>1165391697</td>\n",
       "      <td>Crazy Clown Chase</td>\n",
       "      <td>0.00</td>\n",
       "      <td>9</td>\n",
       "      <td>games</td>\n",
       "      <td>1</td>\n",
       "      <td>tap carefully bounce way clown clown craze swe...</td>\n",
       "      <td>1</td>\n",
       "    </tr>\n",
       "    <tr>\n",
       "      <th>3</th>\n",
       "      <td>866786833</td>\n",
       "      <td>iThoughts (mindmap)</td>\n",
       "      <td>11.99</td>\n",
       "      <td>17</td>\n",
       "      <td>productivity</td>\n",
       "      <td>1</td>\n",
       "      <td>tool touch mac version also visually sure righ...</td>\n",
       "      <td>0</td>\n",
       "    </tr>\n",
       "    <tr>\n",
       "      <th>4</th>\n",
       "      <td>908456072</td>\n",
       "      <td>Fireboy &amp; Watergirl 2 - The Forest Temple</td>\n",
       "      <td>0.99</td>\n",
       "      <td>4</td>\n",
       "      <td>games</td>\n",
       "      <td>1</td>\n",
       "      <td>fireboy unique game best puzzle game never mix...</td>\n",
       "      <td>1</td>\n",
       "    </tr>\n",
       "    <tr>\n",
       "      <th>...</th>\n",
       "      <td>...</td>\n",
       "      <td>...</td>\n",
       "      <td>...</td>\n",
       "      <td>...</td>\n",
       "      <td>...</td>\n",
       "      <td>...</td>\n",
       "      <td>...</td>\n",
       "      <td>...</td>\n",
       "    </tr>\n",
       "    <tr>\n",
       "      <th>6235</th>\n",
       "      <td>1100147750</td>\n",
       "      <td>Trailer Truck Parking with Real City Traffic C...</td>\n",
       "      <td>0.00</td>\n",
       "      <td>4</td>\n",
       "      <td>games</td>\n",
       "      <td>1</td>\n",
       "      <td>master every kind parking challenge huge truck...</td>\n",
       "      <td>1</td>\n",
       "    </tr>\n",
       "    <tr>\n",
       "      <th>6236</th>\n",
       "      <td>460712294</td>\n",
       "      <td>Kids Doodle - Movie Kids Color &amp; Draw</td>\n",
       "      <td>0.00</td>\n",
       "      <td>4</td>\n",
       "      <td>games</td>\n",
       "      <td>1</td>\n",
       "      <td>doodle pretty painting application designed sp...</td>\n",
       "      <td>1</td>\n",
       "    </tr>\n",
       "    <tr>\n",
       "      <th>6237</th>\n",
       "      <td>1101848745</td>\n",
       "      <td>Runaway Toad</td>\n",
       "      <td>2.99</td>\n",
       "      <td>4</td>\n",
       "      <td>games</td>\n",
       "      <td>1</td>\n",
       "      <td>easy green tap hold swipe help toad hop safety...</td>\n",
       "      <td>1</td>\n",
       "    </tr>\n",
       "    <tr>\n",
       "      <th>6238</th>\n",
       "      <td>1123579511</td>\n",
       "      <td>Magic Nightfall</td>\n",
       "      <td>0.00</td>\n",
       "      <td>4</td>\n",
       "      <td>games</td>\n",
       "      <td>1</td>\n",
       "      <td>come help princess get back kingdom rescue cut...</td>\n",
       "      <td>1</td>\n",
       "    </tr>\n",
       "    <tr>\n",
       "      <th>6239</th>\n",
       "      <td>459023164</td>\n",
       "      <td>唯品会 HD 全球精选，正品特卖</td>\n",
       "      <td>0.00</td>\n",
       "      <td>17</td>\n",
       "      <td>shopping</td>\n",
       "      <td>1</td>\n",
       "      <td>apple pay get</td>\n",
       "      <td>0</td>\n",
       "    </tr>\n",
       "  </tbody>\n",
       "</table>\n",
       "<p>6240 rows × 8 columns</p>\n",
       "</div>"
      ],
      "text/plain": [
       "              id                                         track_name  price  \\\n",
       "0     1103702902   Red 7 - play Digital Red7 Card Game with Friends   2.99   \n",
       "1      337056601                                   n-tv Nachrichten   0.00   \n",
       "2     1165391697                                  Crazy Clown Chase   0.00   \n",
       "3      866786833                                iThoughts (mindmap)  11.99   \n",
       "4      908456072          Fireboy & Watergirl 2 - The Forest Temple   0.99   \n",
       "...          ...                                                ...    ...   \n",
       "6235  1100147750  Trailer Truck Parking with Real City Traffic C...   0.00   \n",
       "6236   460712294              Kids Doodle - Movie Kids Color & Draw   0.00   \n",
       "6237  1101848745                                       Runaway Toad   2.99   \n",
       "6238  1123579511                                    Magic Nightfall   0.00   \n",
       "6239   459023164                                   唯品会 HD 全球精选，正品特卖   0.00   \n",
       "\n",
       "      cont_rating   prime_genre  vpp_lic  \\\n",
       "0               4         games        1   \n",
       "1              12          news        1   \n",
       "2               9         games        1   \n",
       "3              17  productivity        1   \n",
       "4               4         games        1   \n",
       "...           ...           ...      ...   \n",
       "6235            4         games        1   \n",
       "6236            4         games        1   \n",
       "6237            4         games        1   \n",
       "6238            4         games        1   \n",
       "6239           17      shopping        1   \n",
       "\n",
       "                                               app_desc  is_games  \n",
       "0     red official digital mobile version cult card ...         1  \n",
       "1     die die das den touch das apple die apple watc...         0  \n",
       "2     tap carefully bounce way clown clown craze swe...         1  \n",
       "3     tool touch mac version also visually sure righ...         0  \n",
       "4     fireboy unique game best puzzle game never mix...         1  \n",
       "...                                                 ...       ...  \n",
       "6235  master every kind parking challenge huge truck...         1  \n",
       "6236  doodle pretty painting application designed sp...         1  \n",
       "6237  easy green tap hold swipe help toad hop safety...         1  \n",
       "6238  come help princess get back kingdom rescue cut...         1  \n",
       "6239                                      apple pay get         0  \n",
       "\n",
       "[6240 rows x 8 columns]"
      ]
     },
     "execution_count": 235,
     "metadata": {},
     "output_type": "execute_result"
    }
   ],
   "source": [
    "df = pd.read_csv('dataset_binary_games.csv')\n",
    "df = shuffle(df, random_state = 42).reset_index(drop=True).drop(['Unnamed: 0'], axis=1)\n",
    "df"
   ]
  },
  {
   "cell_type": "code",
   "execution_count": 236,
   "metadata": {},
   "outputs": [],
   "source": [
    "x_df = df.iloc[:, [2,3,5,6]]\n",
    "y_df = df.iloc[:, [7]]"
   ]
  },
  {
   "cell_type": "code",
   "execution_count": 237,
   "metadata": {},
   "outputs": [],
   "source": [
    "def tf_idf(text, max_feat=None):\n",
    "    tfidf_vect = TfidfVectorizer(max_features=max_feat)\n",
    "    tfidf_vect.fit(text)\n",
    "    return tfidf_vect"
   ]
  },
  {
   "cell_type": "code",
   "execution_count": 238,
   "metadata": {},
   "outputs": [],
   "source": [
    "base_vectorizer = tf_idf(df.app_desc, max_feat=600)"
   ]
  },
  {
   "cell_type": "code",
   "execution_count": 239,
   "metadata": {},
   "outputs": [],
   "source": [
    "kf = KFold(n_splits=10)"
   ]
  },
  {
   "cell_type": "code",
   "execution_count": 240,
   "metadata": {},
   "outputs": [],
   "source": [
    "def join_feature(feature, tfidf):\n",
    "    features = []\n",
    "    transform = np.array(feature.iloc[:, [0,1,2]])\n",
    "    for i,_ in enumerate(transform):\n",
    "        concat = np.concatenate(\n",
    "            [transform[i].reshape(-1), \n",
    "             tfidf[i].reshape(-1)]\n",
    "        )\n",
    "        features.append(concat)\n",
    "    return np.array(features)"
   ]
  },
  {
   "cell_type": "code",
   "execution_count": 241,
   "metadata": {},
   "outputs": [],
   "source": [
    "def build_mn(train, test, train_y, test_y, vectorizer):\n",
    "    train_x_tfidf = vectorizer.fit_transform(train.app_desc).toarray()\n",
    "    test_x_tfidf = vectorizer.fit_transform(test.app_desc).toarray()\n",
    "    train_x = join_feature(train, train_x_tfidf)\n",
    "    test_x = join_feature(test, test_x_tfidf)\n",
    "    mnb = MultinomialNB()\n",
    "    mnb.fit(train_x, train_y.ravel())\n",
    "    predictions_mnb = mnb.predict(test_x)\n",
    "    score_mlt = accuracy_score(predictions_mnb, test_y)*100\n",
    "    print(\"mnb acc score -> \",score_mlt)\n",
    "    bernoulli = BernoulliNB()\n",
    "    bernoulli.fit(train_x, train_y.ravel())\n",
    "    predictions_bernoulli = bernoulli.predict(test_x)\n",
    "    score_bernoulli = accuracy_score(predictions_bernoulli, test_y)*100\n",
    "    print(\"bernoulli acc score -> \",score_bernoulli)\n",
    "    return score_mlt, score_bernoulli"
   ]
  },
  {
   "cell_type": "code",
   "execution_count": 242,
   "metadata": {},
   "outputs": [
    {
     "name": "stdout",
     "output_type": "stream",
     "text": [
      "mnb acc score ->  57.05128205128205\n",
      "bernoulli acc score ->  58.97435897435898\n",
      "mnb acc score ->  55.769230769230774\n",
      "bernoulli acc score ->  61.858974358974365\n",
      "mnb acc score ->  58.493589743589745\n",
      "bernoulli acc score ->  56.25\n",
      "mnb acc score ->  54.807692307692314\n",
      "bernoulli acc score ->  53.84615384615385\n",
      "mnb acc score ->  67.3076923076923\n",
      "bernoulli acc score ->  66.82692307692307\n",
      "mnb acc score ->  68.42948717948718\n",
      "bernoulli acc score ->  68.26923076923077\n",
      "mnb acc score ->  59.294871794871796\n",
      "bernoulli acc score ->  58.01282051282052\n",
      "mnb acc score ->  62.33974358974359\n",
      "bernoulli acc score ->  61.69871794871795\n",
      "mnb acc score ->  68.10897435897436\n",
      "bernoulli acc score ->  69.71153846153845\n",
      "mnb acc score ->  62.66025641025641\n",
      "bernoulli acc score ->  62.980769230769226\n"
     ]
    }
   ],
   "source": [
    "result_multinomial = []\n",
    "result_bernoulli = []\n",
    "for train_index, test_index in kf.split(df):\n",
    "    score_mlt, score_bernoulli = build_mn(\n",
    "        train = x_df.iloc[train_index,:], \n",
    "        test = x_df.iloc[test_index,:], \n",
    "        train_y = np.array(y_df.iloc[train_index,:]),\n",
    "        test_y = np.array(y_df.iloc[test_index,:]),\n",
    "        vectorizer = base_vectorizer\n",
    "    )\n",
    "    result_multinomial.append(float(score_mlt))\n",
    "    result_bernoulli.append(float(score_bernoulli))"
   ]
  },
  {
   "cell_type": "code",
   "execution_count": 243,
   "metadata": {},
   "outputs": [
    {
     "data": {
      "text/plain": [
       "61.42628205128206"
      ]
     },
     "execution_count": 243,
     "metadata": {},
     "output_type": "execute_result"
    }
   ],
   "source": [
    "avg_score_mlt = np.average(result_multinomial)\n",
    "avg_score_mlt"
   ]
  },
  {
   "cell_type": "code",
   "execution_count": 244,
   "metadata": {},
   "outputs": [
    {
     "data": {
      "text/plain": [
       "61.84294871794873"
      ]
     },
     "execution_count": 244,
     "metadata": {},
     "output_type": "execute_result"
    }
   ],
   "source": [
    "avg_score_bernoulli = np.average(result_bernoulli)\n",
    "avg_score_bernoulli"
   ]
  },
  {
   "cell_type": "code",
   "execution_count": null,
   "metadata": {},
   "outputs": [],
   "source": []
  }
 ],
 "metadata": {
  "kernelspec": {
   "display_name": "Python 3",
   "language": "python",
   "name": "python3"
  },
  "language_info": {
   "codemirror_mode": {
    "name": "ipython",
    "version": 3
   },
   "file_extension": ".py",
   "mimetype": "text/x-python",
   "name": "python",
   "nbconvert_exporter": "python",
   "pygments_lexer": "ipython3",
   "version": "3.7.6"
  }
 },
 "nbformat": 4,
 "nbformat_minor": 4
}
